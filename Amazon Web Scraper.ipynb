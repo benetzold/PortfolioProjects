{
 "cells": [
  {
   "cell_type": "code",
   "execution_count": 18,
   "id": "06c2fc6f",
   "metadata": {},
   "outputs": [],
   "source": [
    "#import libraries\n",
    "\n",
    "from bs4 import BeautifulSoup\n",
    "import requests\n",
    "import smtplib\n",
    "import time\n",
    "import datetime\n",
    "\n"
   ]
  },
  {
   "cell_type": "code",
   "execution_count": 100,
   "id": "fa9c1be7",
   "metadata": {},
   "outputs": [
    {
     "name": "stdout",
     "output_type": "stream",
     "text": [
      "\n",
      "                   American Apparel Men's 50/50 Crewneck Short Sleeve Ringer T-Shirt\n",
      "                  \n",
      "\n",
      "                    $6.47 - $17.98\n",
      "                   \n",
      "\n",
      "\n",
      "\n",
      "\n",
      "\n",
      "                       4.4 out of 5 stars\n",
      "                      \n",
      "\n",
      "\n",
      "\n",
      "\n",
      "\n",
      "\n",
      "\n",
      "\n"
     ]
    }
   ],
   "source": [
    "URL = 'https://www.amazon.com/American-Apparel-Crewneck-Sleeve-T-Shirt/dp/B07WXD2RDP/?_encoding=UTF8&pd_rd_w=RXc1u&pf_rd_p=205b21f0-8557-4ea8-a863-e58f77379cf8&pf_rd_r=8ZZACNB0RWZ861JBYD3B&pd_rd_r=6100333e-4dc7-4af6-9c10-43c2d4448d1c&pd_rd_wg=0b97q&ref_=pd_gw_ci_mcx_mr_hp_atf_m'\n",
    "\n",
    "headers = {\"User-Agent\": \"Mozilla/5.0 (Windows NT 10.0; Win64; x64) AppleWebKit/537.36 (KHTML, like Gecko) Chrome/93.0.4577.63 Safari/537.36\", \"Accept-Encoding\":\"gzip, deflate\", \"Accept\":\"text/html,application/xhtml+xml,application/xml;q=0.9,*/*;q=0.8\", \"DNT\":\"1\",\"Connection\":\"close\", \"Upgrade-Insecure-Requests\":\"1\"}\n",
    "\n",
    "page = requests.get(URL, headers=headers)\n",
    "\n",
    "soup1 = BeautifulSoup(page.content, \"html.parser\")\n",
    "\n",
    "soup2 = BeautifulSoup(soup1.prettify(), \"html.parser\")\n",
    "\n",
    "title = soup2.find(id='productTitle').get_text()\n",
    "\n",
    "price = soup2.find(id='priceblock_ourprice').get_text()\n",
    "\n",
    "rating = soup2.find(id='acrPopover').get_text()\n",
    "\n",
    "print(title)\n",
    "print(price)\n",
    "print(rating)"
   ]
  },
  {
   "cell_type": "code",
   "execution_count": 101,
   "id": "b992eb3e",
   "metadata": {},
   "outputs": [
    {
     "name": "stdout",
     "output_type": "stream",
     "text": [
      "2021-09-05\n",
      "American Apparel Men's 50/50 Crewneck Short Sleeve Ringer T-Shirt\n",
      "6.47\n",
      "4.4\n"
     ]
    }
   ],
   "source": [
    "price = price.strip()[1:5]\n",
    "title = title.strip()\n",
    "rating = rating.strip()[:3]\n",
    "import datetime\n",
    "\n",
    "date = datetime.date.today()\n",
    "\n",
    "print(today)\n",
    "print(title)\n",
    "print(price)\n",
    "print(rating)"
   ]
  },
  {
   "cell_type": "code",
   "execution_count": 103,
   "id": "97c90255",
   "metadata": {},
   "outputs": [],
   "source": [
    "#comment this section out when running for real \n",
    "\n",
    "import csv\n",
    "\n",
    "header = ['Date','Product Name', 'Price', 'Rating']\n",
    "data= [today,title,price,rating]\n",
    "\n",
    "with open('AmazonWebScraperDataset.csv', 'w', newline='', encoding='UTF8') as f:\n",
    "         writer = csv.writer(f)\n",
    "         writer.writerow(header)\n",
    "         writer.writerow(data)\n",
    "          \n",
    "          \n"
   ]
  },
  {
   "cell_type": "code",
   "execution_count": 105,
   "id": "1297947d",
   "metadata": {},
   "outputs": [
    {
     "name": "stdout",
     "output_type": "stream",
     "text": [
      "         Date                                       Product Name  Price  \\\n",
      "0  2021-09-05  American Apparel Men's 50/50 Crewneck Short Sl...   6.47   \n",
      "1  2021-09-05  American Apparel Men's 50/50 Crewneck Short Sl...   6.47   \n",
      "\n",
      "   Rating  \n",
      "0     4.4  \n",
      "1     4.4  \n"
     ]
    }
   ],
   "source": [
    "import pandas as pd\n",
    "\n",
    "df = pd.read_csv(r'C:\\Users\\belov\\AmazonWebScraperDataset.csv') \n",
    "\n",
    "print (df)"
   ]
  },
  {
   "cell_type": "code",
   "execution_count": 104,
   "id": "b7355d04",
   "metadata": {},
   "outputs": [],
   "source": [
    "#append data\n",
    "\n",
    "with open('AmazonWebScraperDataset.csv', 'a+', newline='', encoding='UTF8') as f:\n",
    "         writer = csv.writer(f)\n",
    "         writer.writerow(data)\n",
    "        \n",
    "        "
   ]
  },
  {
   "cell_type": "code",
   "execution_count": 114,
   "id": "50a66b2c",
   "metadata": {},
   "outputs": [],
   "source": [
    "def check_price():\n",
    "    URL = 'https://www.amazon.com/American-Apparel-Crewneck-Sleeve-T-Shirt/dp/B07WXD2RDP/?_encoding=UTF8&pd_rd_w=RXc1u&pf_rd_p=205b21f0-8557-4ea8-a863-e58f77379cf8&pf_rd_r=8ZZACNB0RWZ861JBYD3B&pd_rd_r=6100333e-4dc7-4af6-9c10-43c2d4448d1c&pd_rd_wg=0b97q&ref_=pd_gw_ci_mcx_mr_hp_atf_m'\n",
    "\n",
    "    headers = {\"User-Agent\": \"Mozilla/5.0 (Windows NT 10.0; Win64; x64) AppleWebKit/537.36 (KHTML, like Gecko) Chrome/93.0.4577.63 Safari/537.36\", \"Accept-Encoding\":\"gzip, deflate\", \"Accept\":\"text/html,application/xhtml+xml,application/xml;q=0.9,*/*;q=0.8\", \"DNT\":\"1\",\"Connection\":\"close\", \"Upgrade-Insecure-Requests\":\"1\"}\n",
    "\n",
    "    page = requests.get(URL, headers=headers)\n",
    "\n",
    "    soup1 = BeautifulSoup(page.content, \"html.parser\")\n",
    "\n",
    "    soup2 = BeautifulSoup(soup1.prettify(), \"html.parser\")\n",
    "\n",
    "    title = soup2.find(id='productTitle').get_text()\n",
    "\n",
    "    price = soup2.find(id='priceblock_ourprice').get_text()\n",
    "\n",
    "    rating = soup2.find(id='acrPopover').get_text()\n",
    "\n",
    "    price = price.strip()[1:5]\n",
    "    title = title.strip()\n",
    "    rating = rating.strip()[:3]\n",
    "    import datetime\n",
    "\n",
    "    date = datetime.date.today()\n",
    "\n",
    "    import csv\n",
    "\n",
    "    header = ['Date','Product Name', 'Price', 'Rating']\n",
    "    data= [today,title,price,rating]\n",
    "\n",
    "    with open('AmazonWebScraperDataset.csv', 'a+', newline='', encoding='UTF8') as f:\n",
    "         writer = csv.writer(f)\n",
    "         writer.writerow(data)"
   ]
  },
  {
   "cell_type": "code",
   "execution_count": null,
   "id": "45eb5410",
   "metadata": {},
   "outputs": [],
   "source": [
    "while(True): \n",
    "    check_price()\n",
    "    time.sleep(5)"
   ]
  },
  {
   "cell_type": "code",
   "execution_count": null,
   "id": "467ee04c",
   "metadata": {},
   "outputs": [],
   "source": []
  }
 ],
 "metadata": {
  "kernelspec": {
   "display_name": "Python 3",
   "language": "python",
   "name": "python3"
  },
  "language_info": {
   "codemirror_mode": {
    "name": "ipython",
    "version": 3
   },
   "file_extension": ".py",
   "mimetype": "text/x-python",
   "name": "python",
   "nbconvert_exporter": "python",
   "pygments_lexer": "ipython3",
   "version": "3.8.8"
  }
 },
 "nbformat": 4,
 "nbformat_minor": 5
}
